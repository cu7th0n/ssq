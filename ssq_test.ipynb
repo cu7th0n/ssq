{
  "nbformat": 4,
  "nbformat_minor": 0,
  "metadata": {
    "colab": {
      "name": "ssq_test.ipynb",
      "version": "0.3.2",
      "provenance": [],
      "collapsed_sections": [],
      "include_colab_link": true
    },
    "kernelspec": {
      "name": "python3",
      "display_name": "Python 3"
    }
  },
  "cells": [
    {
      "cell_type": "markdown",
      "metadata": {
        "id": "view-in-github",
        "colab_type": "text"
      },
      "source": [
        "<a href=\"https://colab.research.google.com/github/cu7th0n/ssq/blob/master/ssq_test.ipynb\" target=\"_parent\"><img src=\"https://colab.research.google.com/assets/colab-badge.svg\" alt=\"Open In Colab\"/></a>"
      ]
    },
    {
      "metadata": {
        "id": "om1u2k0fisey",
        "colab_type": "code",
        "colab": {
          "base_uri": "https://localhost:8080/",
          "height": 34
        },
        "outputId": "2a6ab6d0-cb16-440e-a7cc-0d216109daf2"
      },
      "cell_type": "code",
      "source": [
        "import requests\n",
        "from bs4 import BeautifulSoup\n",
        "import xlwt\n",
        "import time\n",
        "\n",
        "#获取第一页的内容\n",
        "def get_one_page(url):\n",
        "    headers = {\n",
        "        'User-Agent':'Mozilla/5.0 (Windows NT 6.1; Win64; x64) AppleWebKit/537.36 (KHTML, like Gecko) Chrome/64.0.3282.140 Safari/537.36'\n",
        "    }\n",
        "    response = requests.get(url,headers=headers)\n",
        "    if response.status_code == 200:\n",
        "        return response.text\n",
        "    return \n",
        "\n",
        "#解析第一页内容，数据结构化\n",
        "def parse_one_page(html):\n",
        "\n",
        "    soup = BeautifulSoup(html,'lxml')\n",
        "    i = 0\n",
        "    for item in soup.select('tr')[2:-1]:\n",
        "\n",
        "        yield{\n",
        "            'time':item.select('td')[i].text,\n",
        "            'digit_1':item.select('td em')[0].text,\n",
        "            'digit_2':item.select('td em')[1].text,\n",
        "            'digit_3':item.select('td em')[2].text,\n",
        "            'digit_4':item.select('td em')[3].text,\n",
        "            'digit_5':item.select('td em')[4].text,\n",
        "            'digit_6':item.select('td em')[5].text,\n",
        "            'digit_7':item.select('td em')[6].text,\n",
        "        }\n",
        "\n",
        "#将数据写入Excel表格中\n",
        "def write_to_excel():\n",
        "    f = xlwt.Workbook()                             \n",
        "    sheet1 = f.add_sheet('ssq',cell_overwrite_ok=True)\n",
        "    row0 = [\"date\",\"digit_1\",\"digit_2\",\"digit_3\",\"digit_4\",\"digit_5\",\"digit_6\",\"digit_7\"]\n",
        "    #写入第一行\n",
        "    for j in range(0,len(row0)):\n",
        "        sheet1.write(0,j,row0[j])\n",
        "\n",
        "    #依次爬取每一页内容的每一期信息，并将其依次写入Excel\n",
        "    i=0\n",
        "    for k in range(1,120):\n",
        "        url = 'http://kaijiang.zhcw.com/zhcw/html/ssq/list_%s.html' %(str(k))\n",
        "        html = get_one_page(url)\n",
        "        \n",
        "        #写入每一期的信息\n",
        "        for item in parse_one_page(html):\n",
        "            sheet1.write(i+1,0,item['time'])\n",
        "            sheet1.write(i+1,1,item['digit_1'])\n",
        "            sheet1.write(i+1,2,item['digit_2'])\n",
        "            sheet1.write(i+1,3,item['digit_3'])\n",
        "            sheet1.write(i+1,4,item['digit_4'])\n",
        "            sheet1.write(i+1,5,item['digit_5'])\n",
        "            sheet1.write(i+1,6,item['digit_6'])\n",
        "            sheet1.write(i+1,7,item['digit_7'])\n",
        "            i+=1\n",
        "    \n",
        "    f.save('ssq.xls')\n",
        "    print('%d页已保存。'%k)\n",
        "    \n",
        "def main():\n",
        "    write_to_excel()\n",
        "\n",
        "if __name__ == '__main__':\n",
        "    main()"
      ],
      "execution_count": 1,
      "outputs": [
        {
          "output_type": "stream",
          "text": [
            "119页已保存。\n"
          ],
          "name": "stdout"
        }
      ]
    },
    {
      "metadata": {
        "id": "8ApXOIJ8jdWH",
        "colab_type": "code",
        "colab": {}
      },
      "cell_type": "code",
      "source": [
        "import pandas as pd\n",
        "data = pd.read_excel('ssq.xls')\n",
        "\n",
        "data['date'] = pd.to_datetime(data['date'])\n",
        "data = data.sort_values(by = 'date')\n",
        "data.reset_index(inplace=True)\n",
        "del data['index']\n",
        "del data['date']"
      ],
      "execution_count": 0,
      "outputs": []
    },
    {
      "metadata": {
        "id": "D-X3njvEjgJ9",
        "colab_type": "code",
        "colab": {}
      },
      "cell_type": "code",
      "source": [
        "D_1 = data['digit_1']\n",
        "D_2 = data['digit_2']\n",
        "D_3 = data['digit_3']\n",
        "D_4 = data['digit_4']\n",
        "D_5 = data['digit_5']\n",
        "D_6 = data['digit_6']\n",
        "D_7 = data['digit_7']"
      ],
      "execution_count": 0,
      "outputs": []
    },
    {
      "metadata": {
        "id": "pByXdVd0imEP",
        "colab_type": "code",
        "colab": {
          "base_uri": "https://localhost:8080/",
          "height": 1445
        },
        "outputId": "06d04062-f9a8-43d7-96ff-64d039eccd50"
      },
      "cell_type": "code",
      "source": [
        "from keras.models import load_model\n",
        "from keras.utils import to_categorical\n",
        "import numpy as np\n",
        "models = ['M1_model.h5', 'M2_model.h5', 'M3_model.h5', 'M4_model.h5', 'M5_model.h5','M6_model.h5','M7_model.h5']\n",
        "tdatas = [D_1,D_2,D_3,D_4,D_5,D_6,D_7]\n",
        "\n",
        "for (model,tdata) in zip(models,tdatas):\n",
        "    \n",
        "    print(model)\n",
        "    M_ssq = load_model(model)\n",
        "\n",
        "    test_X = to_categorical(np.asarray([tdata[-200:]]),num_classes=34)\n",
        "\n",
        "    pred = M_ssq.predict(test_X)\n",
        "    ranks = np.argsort(pred[0])\n",
        "    \n",
        "    for i in range(9):\n",
        "        print(str(ranks[-i-1]) + ' : %.2f%%' %(pred[0][ranks[-i-1]]*100))\n",
        "    print('\\n')"
      ],
      "execution_count": 7,
      "outputs": [
        {
          "output_type": "stream",
          "text": [
            "M1_model.h5\n",
            "1 : 18.89%\n",
            "2 : 16.17%\n",
            "5 : 11.96%\n",
            "4 : 9.57%\n",
            "6 : 8.21%\n",
            "3 : 7.99%\n",
            "7 : 6.56%\n",
            "9 : 6.30%\n",
            "8 : 5.33%\n",
            "\n",
            "\n",
            "M2_model.h5\n",
            "8 : 12.67%\n",
            "6 : 9.34%\n",
            "7 : 8.26%\n",
            "13 : 7.04%\n",
            "4 : 6.70%\n",
            "11 : 6.64%\n",
            "10 : 6.35%\n",
            "5 : 6.20%\n",
            "9 : 5.78%\n",
            "\n",
            "\n",
            "M3_model.h5\n",
            "12 : 8.14%\n",
            "14 : 8.01%\n",
            "15 : 7.76%\n",
            "8 : 7.51%\n",
            "16 : 7.16%\n",
            "10 : 6.24%\n",
            "11 : 5.25%\n",
            "19 : 5.24%\n",
            "9 : 5.10%\n",
            "\n",
            "\n",
            "M4_model.h5\n",
            "20 : 8.24%\n",
            "24 : 7.41%\n",
            "22 : 7.13%\n",
            "17 : 6.88%\n",
            "23 : 6.31%\n",
            "14 : 5.80%\n",
            "19 : 5.70%\n",
            "26 : 5.68%\n",
            "15 : 5.12%\n",
            "\n",
            "\n",
            "M5_model.h5\n",
            "27 : 11.57%\n",
            "25 : 9.52%\n",
            "23 : 7.50%\n",
            "26 : 6.82%\n",
            "28 : 6.77%\n",
            "22 : 6.75%\n",
            "32 : 5.63%\n",
            "29 : 5.25%\n",
            "24 : 4.90%\n",
            "\n",
            "\n",
            "M6_model.h5\n",
            "33 : 17.35%\n",
            "32 : 16.41%\n",
            "29 : 12.64%\n",
            "30 : 12.45%\n",
            "31 : 9.98%\n",
            "27 : 7.17%\n",
            "28 : 5.47%\n",
            "26 : 4.97%\n",
            "25 : 4.35%\n",
            "\n",
            "\n",
            "M7_model.h5\n",
            "7 : 12.84%\n",
            "15 : 9.56%\n",
            "5 : 9.46%\n",
            "10 : 9.27%\n",
            "13 : 7.83%\n",
            "12 : 6.76%\n",
            "9 : 5.68%\n",
            "8 : 5.48%\n",
            "14 : 5.44%\n",
            "\n",
            "\n"
          ],
          "name": "stdout"
        }
      ]
    }
  ]
}