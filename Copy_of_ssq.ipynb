{
  "nbformat": 4,
  "nbformat_minor": 0,
  "metadata": {
    "colab": {
      "name": "Copy of ssq.ipynb",
      "version": "0.3.2",
      "provenance": [],
      "collapsed_sections": [],
      "include_colab_link": true
    },
    "kernelspec": {
      "name": "python3",
      "display_name": "Python 3"
    },
    "accelerator": "TPU"
  },
  "cells": [
    {
      "cell_type": "markdown",
      "metadata": {
        "id": "view-in-github",
        "colab_type": "text"
      },
      "source": [
        "<a href=\"https://colab.research.google.com/github/cu7th0n/ssq/blob/master/Copy_of_ssq.ipynb\" target=\"_parent\"><img src=\"https://colab.research.google.com/assets/colab-badge.svg\" alt=\"Open In Colab\"/></a>"
      ]
    },
    {
      "metadata": {
        "id": "RgLZyGViHwV9",
        "colab_type": "code",
        "outputId": "b7554d39-67aa-4c86-9010-f67b5fd96f00",
        "colab": {
          "base_uri": "https://localhost:8080/",
          "height": 34
        }
      },
      "cell_type": "code",
      "source": [
        "import requests\n",
        "from bs4 import BeautifulSoup\n",
        "import xlwt\n",
        "import time\n",
        "\n",
        "#获取第一页的内容\n",
        "def get_one_page(url):\n",
        "    headers = {\n",
        "        'User-Agent':'Mozilla/5.0 (Windows NT 6.1; Win64; x64) AppleWebKit/537.36 (KHTML, like Gecko) Chrome/64.0.3282.140 Safari/537.36'\n",
        "    }\n",
        "    response = requests.get(url,headers=headers)\n",
        "    if response.status_code == 200:\n",
        "        return response.text\n",
        "    return \n",
        "\n",
        "#解析第一页内容，数据结构化\n",
        "def parse_one_page(html):\n",
        "\n",
        "    soup = BeautifulSoup(html,'lxml')\n",
        "    i = 0\n",
        "    for item in soup.select('tr')[2:-1]:\n",
        "\n",
        "        yield{\n",
        "            'time':item.select('td')[i].text,\n",
        "            'digit_1':item.select('td em')[0].text,\n",
        "            'digit_2':item.select('td em')[1].text,\n",
        "            'digit_3':item.select('td em')[2].text,\n",
        "            'digit_4':item.select('td em')[3].text,\n",
        "            'digit_5':item.select('td em')[4].text,\n",
        "            'digit_6':item.select('td em')[5].text,\n",
        "            'digit_7':item.select('td em')[6].text,\n",
        "        }\n",
        "\n",
        "#将数据写入Excel表格中\n",
        "def write_to_excel():\n",
        "    f = xlwt.Workbook()                             \n",
        "    sheet1 = f.add_sheet('ssq',cell_overwrite_ok=True)\n",
        "    row0 = [\"date\",\"digit_1\",\"digit_2\",\"digit_3\",\"digit_4\",\"digit_5\",\"digit_6\",\"digit_7\"]\n",
        "    #写入第一行\n",
        "    for j in range(0,len(row0)):\n",
        "        sheet1.write(0,j,row0[j])\n",
        "\n",
        "    #依次爬取每一页内容的每一期信息，并将其依次写入Excel\n",
        "    i=0\n",
        "    for k in range(1,120):\n",
        "        url = 'http://kaijiang.zhcw.com/zhcw/html/ssq/list_%s.html' %(str(k))\n",
        "        html = get_one_page(url)\n",
        "        \n",
        "        #写入每一期的信息\n",
        "        for item in parse_one_page(html):\n",
        "            sheet1.write(i+1,0,item['time'])\n",
        "            sheet1.write(i+1,1,item['digit_1'])\n",
        "            sheet1.write(i+1,2,item['digit_2'])\n",
        "            sheet1.write(i+1,3,item['digit_3'])\n",
        "            sheet1.write(i+1,4,item['digit_4'])\n",
        "            sheet1.write(i+1,5,item['digit_5'])\n",
        "            sheet1.write(i+1,6,item['digit_6'])\n",
        "            sheet1.write(i+1,7,item['digit_7'])\n",
        "            i+=1\n",
        "    \n",
        "    f.save('ssq.xls')\n",
        "    print('%d页已保存。'%k)\n",
        "    \n",
        "def main():\n",
        "    write_to_excel()\n",
        "\n",
        "if __name__ == '__main__':\n",
        "    main()"
      ],
      "execution_count": 76,
      "outputs": [
        {
          "output_type": "stream",
          "text": [
            "119页已保存。\n"
          ],
          "name": "stdout"
        }
      ]
    },
    {
      "metadata": {
        "id": "ZiuZJDx6mi45",
        "colab_type": "code",
        "colab": {}
      },
      "cell_type": "code",
      "source": [
        "import pandas as pd\n",
        "data = pd.read_excel('ssq.xls')\n",
        "\n",
        "data['date'] = pd.to_datetime(data['date'])\n",
        "data = data.sort_values(by = 'date')\n",
        "data.reset_index(inplace=True)\n",
        "del data['index']\n",
        "del data['date']"
      ],
      "execution_count": 0,
      "outputs": []
    },
    {
      "metadata": {
        "id": "aVqnjduWjv6r",
        "colab_type": "code",
        "outputId": "4d103d14-b234-472e-82d0-d21ef68b26cb",
        "colab": {
          "base_uri": "https://localhost:8080/",
          "height": 34
        }
      },
      "cell_type": "code",
      "source": [
        "data.columns[0]"
      ],
      "execution_count": 97,
      "outputs": [
        {
          "output_type": "execute_result",
          "data": {
            "text/plain": [
              "'digit_1'"
            ]
          },
          "metadata": {
            "tags": []
          },
          "execution_count": 97
        }
      ]
    },
    {
      "metadata": {
        "id": "ujDFuZtgr6H-",
        "colab_type": "code",
        "colab": {}
      },
      "cell_type": "code",
      "source": [
        "D_1 = data['digit_1']\n",
        "D_2 = data['digit_2']\n",
        "D_3 = data['digit_3']\n",
        "D_4 = data['digit_4']\n",
        "D_5 = data['digit_5']\n",
        "D_6 = data['digit_6']\n",
        "D_7 = data['digit_7']"
      ],
      "execution_count": 0,
      "outputs": []
    },
    {
      "metadata": {
        "id": "0KpBNHJI9-yB",
        "colab_type": "code",
        "colab": {}
      },
      "cell_type": "code",
      "source": [
        "tdatas = [D_1, D_2, D_3, D_4, D_5, D_6, D_7]"
      ],
      "execution_count": 0,
      "outputs": []
    },
    {
      "metadata": {
        "id": "WJ_cbVxk8csd",
        "colab_type": "code",
        "outputId": "b6a26f95-6b6a-40f4-b1c0-7fef900d96e4",
        "colab": {
          "base_uri": "https://localhost:8080/",
          "height": 412
        }
      },
      "cell_type": "code",
      "source": [
        "import seaborn as sns\n",
        "\n",
        "sns.set_style('darkgrid')\n",
        "for (d,l) in zip(tdatas,data.columns):\n",
        "  sns.distplot(d,label=l)\n"
      ],
      "execution_count": 94,
      "outputs": [
        {
          "output_type": "stream",
          "text": [
            "/usr/local/lib/python3.6/dist-packages/matplotlib/axes/_axes.py:6521: MatplotlibDeprecationWarning: \n",
            "The 'normed' kwarg was deprecated in Matplotlib 2.1 and will be removed in 3.1. Use 'density' instead.\n",
            "  alternative=\"'density'\", removal=\"3.1\")\n"
          ],
          "name": "stderr"
        },
        {
          "output_type": "display_data",
          "data": {
            "image/png": "[encoded data removed]",
            "text/plain": [
              "<Figure size 576x396 with 1 Axes>"
            ]
          },
          "metadata": {
            "tags": []
          }
        }
      ]
    },
    {
      "metadata": {
        "id": "npbn5vaxnSI0",
        "colab_type": "code",
        "colab": {}
      },
      "cell_type": "code",
      "source": [
        "import numpy as np\n",
        "\n",
        "def create_interval_dataset(dataset, look_back):\n",
        "    \"\"\"\n",
        "    :param dataset: input array of time intervals\n",
        "    :param look_back: each training set feature length\n",
        "    :return: convert an array of values into a dataset matrix.\n",
        "    \"\"\"\n",
        "    dataX, dataY = [], []\n",
        "    for i in range(len(dataset) - look_back):\n",
        "        dataX.append(dataset[i:i+look_back])\n",
        "        dataY.append(dataset[i+look_back])\n",
        "    return np.asarray(dataX), np.asarray(dataY)\n"
      ],
      "execution_count": 0,
      "outputs": []
    },
    {
      "metadata": {
        "id": "_Sh7W95znabX",
        "colab_type": "code",
        "colab": {}
      },
      "cell_type": "code",
      "source": [
        "def train_model(train_set,mname,look_back = 200,data_dim = 34,batch_size = 1):\n",
        "  from keras.utils import to_categorical\n",
        "  from keras.models import Sequential\n",
        "  from keras.layers import LSTM, Dense, Dropout\n",
        "  import numpy as np\n",
        "\n",
        "  timesteps = look_back\n",
        " \n",
        "  # Expected input batch shape: (batch_size, timesteps, data_dim)\n",
        "  # Note that we have to provide the full batch_input_shape since the network is stateful.\n",
        "  # the sample of index i in batch k is the follow-up for the sample i in batch k-1.\n",
        "  model = Sequential()\n",
        "  model.add(LSTM(data_dim, return_sequences=True, stateful=True,\n",
        "               batch_input_shape=(batch_size, timesteps, data_dim)))\n",
        "  model.add(LSTM(data_dim*2, return_sequences=True, stateful=True))\n",
        "  model.add(Dropout(0.2))\n",
        "  model.add(LSTM(data_dim*4, return_sequences=True, stateful=True))\n",
        "  model.add(Dropout(0.2))\n",
        "  model.add(LSTM(data_dim*8, stateful=True))\n",
        "  model.add(Dense(data_dim, activation='softmax'))\n",
        "\n",
        "  model.compile(loss='categorical_crossentropy',\n",
        "              optimizer='rmsprop',\n",
        "              metrics=['accuracy'])\n",
        "\n",
        "  df = to_categorical(train_set,data_dim)\n",
        "  \n",
        "  dataX, dataY = create_interval_dataset(df, look_back) \n",
        "  \n",
        "  total = len(train_set)\n",
        "  split = total*8//10\n",
        "\n",
        "  X_train = dataX[:split]\n",
        "  y_train = dataY[:split]\n",
        "\n",
        "  X_val = dataX[split+1:total-1]\n",
        "  y_val = dataY[split+1:total-1]\n",
        "  \n",
        "  model.fit(X_train, y_train,batch_size=batch_size, epochs=1,\n",
        "            shuffle=False,validation_data=(X_val, y_val))\n",
        "  model.save(mname)\n"
      ],
      "execution_count": 0,
      "outputs": []
    },
    {
      "metadata": {
        "id": "jsnoFFBpmEgY",
        "colab_type": "code",
        "outputId": "12a4533c-155c-42a6-d0d7-ab472c9812b1",
        "colab": {
          "base_uri": "https://localhost:8080/",
          "height": 564
        }
      },
      "cell_type": "code",
      "source": [
        "models = ['M1_model.h5', 'M2_model.h5', 'M3_model.h5',\n",
        "          'M4_model.h5', 'M5_model.h5','M6_model.h5','M7_model.h5']\n",
        "tdatas = [D_1, D_2, D_3, D_4, D_5, D_6, D_7]\n",
        "\n",
        "for (model,tdata) in zip(models,tdatas):\n",
        "  train_model(tdata,model)"
      ],
      "execution_count": 0,
      "outputs": [
        {
          "output_type": "stream",
          "text": [
            "Using TensorFlow backend.\n"
          ],
          "name": "stderr"
        },
        {
          "output_type": "stream",
          "text": [
            "WARNING:tensorflow:From /usr/local/lib/python3.6/dist-packages/tensorflow/python/framework/op_def_library.py:263: colocate_with (from tensorflow.python.framework.ops) is deprecated and will be removed in a future version.\n",
            "Instructions for updating:\n",
            "Colocations handled automatically by placer.\n",
            "WARNING:tensorflow:From /usr/local/lib/python3.6/dist-packages/keras/backend/tensorflow_backend.py:3445: calling dropout (from tensorflow.python.ops.nn_ops) with keep_prob is deprecated and will be removed in a future version.\n",
            "Instructions for updating:\n",
            "Please use `rate` instead of `keep_prob`. Rate should be set to `rate = 1 - keep_prob`.\n",
            "WARNING:tensorflow:From /usr/local/lib/python3.6/dist-packages/tensorflow/python/ops/math_ops.py:3066: to_int32 (from tensorflow.python.ops.math_ops) is deprecated and will be removed in a future version.\n",
            "Instructions for updating:\n",
            "Use tf.cast instead.\n",
            "Train on 1902 samples, validate on 275 samples\n",
            "Epoch 1/1\n",
            "1902/1902 [==============================] - 730s 384ms/step - loss: 2.5848 - acc: 0.1656 - val_loss: 2.5521 - val_acc: 0.2218\n",
            "Train on 1902 samples, validate on 275 samples\n",
            "Epoch 1/1\n",
            "1902/1902 [==============================] - 762s 401ms/step - loss: 3.0576 - acc: 0.0810 - val_loss: 2.9530 - val_acc: 0.0582\n",
            "Train on 1902 samples, validate on 275 samples\n",
            "Epoch 1/1\n",
            "1902/1902 [==============================] - 748s 393ms/step - loss: 3.2078 - acc: 0.0526 - val_loss: 3.2329 - val_acc: 0.0473\n",
            "Train on 1902 samples, validate on 275 samples\n",
            "Epoch 1/1\n",
            "1902/1902 [==============================] - 793s 417ms/step - loss: 3.1869 - acc: 0.0631 - val_loss: 3.0982 - val_acc: 0.0400\n",
            "Train on 1902 samples, validate on 275 samples\n",
            "Epoch 1/1\n",
            "1902/1902 [==============================] - 760s 399ms/step - loss: 3.0503 - acc: 0.0731 - val_loss: 3.0048 - val_acc: 0.0618\n",
            "Train on 1902 samples, validate on 275 samples\n",
            "Epoch 1/1\n",
            "1902/1902 [==============================] - 783s 411ms/step - loss: 2.6417 - acc: 0.1456 - val_loss: 2.6633 - val_acc: 0.1455\n",
            "Train on 1902 samples, validate on 275 samples\n",
            "Epoch 1/1\n",
            "1902/1902 [==============================] - 883s 464ms/step - loss: 2.9262 - acc: 0.0689 - val_loss: 2.8888 - val_acc: 0.0764\n"
          ],
          "name": "stdout"
        }
      ]
    },
    {
      "metadata": {
        "id": "AvuCt5pFva88",
        "colab_type": "code",
        "outputId": "bb9086df-b024-4ed0-9320-9ec7b4c15ec2",
        "colab": {
          "base_uri": "https://localhost:8080/",
          "height": 850
        }
      },
      "cell_type": "code",
      "source": [
        "from keras.models import load_model\n",
        "from keras.utils import to_categorical\n",
        "models = ['M1_model.h5', 'M2_model.h5', 'M3_model.h5', 'M4_model.h5', 'M5_model.h5','M6_model.h5','M7_model.h5']\n",
        "tdatas = [D_1,D_2,D_3,D_4,D_5,D_6,D_7]\n",
        "\n",
        "for (model,tdata) in zip(models,tdatas):\n",
        "    \n",
        "    print(model)\n",
        "    M_ssq = load_model(model)\n",
        "\n",
        "    test_X = to_categorical(np.asarray([tdata[-200:]]),num_classes=34)\n",
        "\n",
        "    pred = M_ssq.predict(test_X)\n",
        "    ranks = np.argsort(pred[0])\n",
        "    \n",
        "    for i in [1,2,3,4]:\n",
        "        print(str(ranks[-i]) + ' : %.2f%%' %(pred[0][ranks[-i]]*100))\n",
        "    print('\\n')"
      ],
      "execution_count": 42,
      "outputs": [
        {
          "output_type": "stream",
          "text": [
            "M1_model.h5\n",
            "1 : 20.71%\n",
            "2 : 18.68%\n",
            "5 : 12.66%\n",
            "4 : 12.61%\n",
            "\n",
            "\n",
            "M2_model.h5\n",
            "8 : 11.41%\n",
            "7 : 8.85%\n",
            "6 : 8.62%\n",
            "10 : 7.62%\n",
            "\n",
            "\n",
            "M3_model.h5\n",
            "8 : 12.28%\n",
            "12 : 9.52%\n",
            "16 : 9.52%\n",
            "14 : 7.64%\n",
            "\n",
            "\n",
            "M4_model.h5\n",
            "24 : 8.13%\n",
            "20 : 7.34%\n",
            "23 : 7.26%\n",
            "22 : 7.08%\n",
            "\n",
            "\n",
            "M5_model.h5\n",
            "27 : 12.36%\n",
            "25 : 8.95%\n",
            "28 : 7.13%\n",
            "23 : 6.73%\n",
            "\n",
            "\n",
            "M6_model.h5\n",
            "33 : 17.45%\n",
            "32 : 15.62%\n",
            "30 : 13.48%\n",
            "29 : 12.15%\n",
            "\n",
            "\n",
            "M7_model.h5\n",
            "7 : 11.47%\n",
            "15 : 10.04%\n",
            "5 : 9.32%\n",
            "10 : 9.23%\n",
            "\n",
            "\n"
          ],
          "name": "stdout"
        }
      ]
    },
    {
      "metadata": {
        "id": "P-TK7KQGjI4x",
        "colab_type": "code",
        "colab": {
          "base_uri": "https://localhost:8080/",
          "height": 34
        },
        "outputId": "82ace05e-a956-465b-fd46-1a1d94a198a9"
      },
      "cell_type": "code",
      "source": [
        "dataX[-1:].shape"
      ],
      "execution_count": 33,
      "outputs": [
        {
          "output_type": "execute_result",
          "data": {
            "text/plain": [
              "(1, 200, 34)"
            ]
          },
          "metadata": {
            "tags": []
          },
          "execution_count": 33
        }
      ]
    },
    {
      "metadata": {
        "id": "7PAlkPXjjUeF",
        "colab_type": "code",
        "colab": {}
      },
      "cell_type": "code",
      "source": [
        "test_X = to_categorical(np.asarray([D_1[-200:]]),num_classes=34)"
      ],
      "execution_count": 0,
      "outputs": []
    }
  ]
}